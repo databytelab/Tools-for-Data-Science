{
 "cells": [
  {
   "cell_type": "markdown",
   "id": "d12f1bf5",
   "metadata": {},
   "source": [
    "# Data Science Tools and Ecosystem"
   ]
  },
  {
   "cell_type": "markdown",
   "id": "f8ab246c",
   "metadata": {},
   "source": [
    "In this notebook, Data Science Tools and Ecosystem are summarized."
   ]
  },
  {
   "cell_type": "markdown",
   "id": "2ac27c43",
   "metadata": {},
   "source": [
    "Some of the popular languages that Data Scientists use are:\n",
    "1. Python\n",
    "2. R\n",
    "3. SQL\n",
    "4. Julia\n",
    "5. Java\n",
    "6. C++\n",
    "7. PhP\n",
    "8. Go\n",
    "9. Ruby\n",
    "10. Visual Basic\n",
    "11. JavaScript"
   ]
  },
  {
   "cell_type": "markdown",
   "id": "fc223a24",
   "metadata": {},
   "source": [
    "Some of the commonly used libraries used by Data Scientists include:\n",
    "1. Pandas\n",
    "2. NumPy\n",
    "3. Scikit-learn\n",
    "4. TensorFlow\n",
    "5. Keras\n",
    "6. Pytorch\n",
    "7. Seaborn\n",
    "8. Matplotlib\n",
    "9. GGplot\n",
    "10. Caret"
   ]
  },
  {
   "cell_type": "markdown",
   "id": "a67d2c10",
   "metadata": {},
   "source": [
    "| Data Science Tools |\n",
    "|---------------------|\n",
    "| Jupyter Notebook |\n",
    "| RStudio           |\n",
    "| Apache Zeppelin   |\n",
    "| Spyder   |"
   ]
  },
  {
   "cell_type": "markdown",
   "id": "33d04e4f",
   "metadata": {},
   "source": [
    "### Below are a few examples of evaluating arithmetic expressions in Python."
   ]
  },
  {
   "cell_type": "code",
   "execution_count": null,
   "id": "427f4486",
   "metadata": {},
   "outputs": [],
   "source": [
    "# This a simple arithmetic expression to multiply then add integers\n",
    "(3 * 4) + 5"
   ]
  },
  {
   "cell_type": "code",
   "execution_count": null,
   "id": "31dd1b7b",
   "metadata": {},
   "outputs": [],
   "source": [
    "# This will convert 200 minutes to hours by dividing by 60\n",
    "200 / 60"
   ]
  },
  {
   "cell_type": "markdown",
   "id": "6bbf982b",
   "metadata": {},
   "source": [
    "**Objectives:**\n",
    "- List popular languages for Data Science\n",
    "- List commonly used libraries in Data Science\n",
    "- Introduce development environment open source tools used in Data Science\n",
    "- Provide examples of evaluating arithmetic expressions in Python\n",
    "- Demonstrate conversion of minutes to hours in Python"
   ]
  },
  {
   "cell_type": "markdown",
   "id": "e5e933cf",
   "metadata": {},
   "source": [
    "## Author\n",
    "Irfan Ahmad"
   ]
  }
 ],
 "metadata": {
  "language_info": {
   "name": "python"
  }
 },
 "nbformat": 4,
 "nbformat_minor": 5
}
